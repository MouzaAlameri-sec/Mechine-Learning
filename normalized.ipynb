{
 "cells": [
  {
   "cell_type": "code",
   "execution_count": null,
   "id": "beb4f5aa",
   "metadata": {},
   "outputs": [],
   "source": [
    "__Author__ = \"Mouza Alameri, Nadeen Ahmed, Fardia\""
   ]
  },
  {
   "cell_type": "code",
   "execution_count": null,
   "id": "3461be2d",
   "metadata": {},
   "outputs": [],
   "source": []
  }
 ],
 "metadata": {
  "language_info": {
   "name": "python"
  }
 },
 "nbformat": 4,
 "nbformat_minor": 5
}
